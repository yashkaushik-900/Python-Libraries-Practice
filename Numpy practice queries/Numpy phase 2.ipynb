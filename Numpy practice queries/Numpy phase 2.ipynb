{
 "cells": [
  {
   "cell_type": "markdown",
   "id": "63fb0c3a-f500-4b95-8916-9fd8e08ada98",
   "metadata": {},
   "source": [
    "### Numpy Array Operations"
   ]
  },
  {
   "cell_type": "code",
   "execution_count": 1,
   "id": "d6281837-f818-4543-bdc5-c30577f1128e",
   "metadata": {},
   "outputs": [],
   "source": [
    "import numpy as np"
   ]
  },
  {
   "cell_type": "code",
   "execution_count": 3,
   "id": "14d3f6a4-2874-4bcb-aaec-d1f0b50005c8",
   "metadata": {},
   "outputs": [
    {
     "name": "stdout",
     "output_type": "stream",
     "text": [
      "Basic slicing [3 4 5 6 7]\n",
      "with step [2 4 6 8]\n",
      "negative indexing 8\n"
     ]
    }
   ],
   "source": [
    "arr = np.array([1,2,3,4,5,6,7,8,9,10])\n",
    "print(\"Basic slicing\", arr[2:7])\n",
    "print(\"with step\", arr[1:8:2])\n",
    "print(\"negative indexing\", arr[-3])"
   ]
  },
  {
   "cell_type": "code",
   "execution_count": 7,
   "id": "b1ad3846-812a-4caa-96c7-82626410adc7",
   "metadata": {},
   "outputs": [
    {
     "name": "stdout",
     "output_type": "stream",
     "text": [
      "Specific element 6\n",
      "Entire row: [4 5 6]\n",
      "Entire row: [2 5 8]\n"
     ]
    }
   ],
   "source": [
    "arr_2d = np.array([[1,2,3],[4,5,6],[7,8,9]])\n",
    "print(\"Specific element\", arr_2d[1,2])\n",
    "print(\"Entire row:\", arr_2d[1])\n",
    "print(\"Entire row:\", arr_2d[:, 1])"
   ]
  },
  {
   "cell_type": "markdown",
   "id": "a73ceecc-1bf3-4ec4-aac7-2640f0a63da7",
   "metadata": {},
   "source": [
    "### Sorting "
   ]
  },
  {
   "cell_type": "code",
   "execution_count": 12,
   "id": "ee3c274c-b95f-4d6a-9b00-197c7596b717",
   "metadata": {},
   "outputs": [
    {
     "name": "stdout",
     "output_type": "stream",
     "text": [
      "sorted array [1 1 2 2 3 4 4 5 6 6 6 7 7 8 9]\n",
      "sorted 2d array by column  [[1 1]\n",
      " [2 2]\n",
      " [3 3]]\n"
     ]
    }
   ],
   "source": [
    "unsorted = np.array([1,4,6,5,2,7,8,9,4,6,2,3,6,1,7])\n",
    "print(\"sorted array\", np.sort(unsorted))\n",
    "\n",
    "arr_2d_unsorted = np.array([[3,1], [1,2], [2,3]])\n",
    "print(\"sorted 2d array by column \", np.sort(arr_2d_unsorted, axis=0))\n"
   ]
  },
  {
   "cell_type": "markdown",
   "id": "1225d927-1864-47cc-b23e-5e603407e9c0",
   "metadata": {},
   "source": [
    "## Filters"
   ]
  },
  {
   "cell_type": "code",
   "execution_count": 13,
   "id": "a4aff4c0-772f-4252-9d82-671a702afa7b",
   "metadata": {},
   "outputs": [
    {
     "name": "stdout",
     "output_type": "stream",
     "text": [
      "Even numbers [ 2  4  6  8 10]\n"
     ]
    }
   ],
   "source": [
    "numbers = np.array([1,2,3,4,5,6,7,8,9,10])\n",
    "even_number = numbers[numbers % 2 == 0]\n",
    "print(\"Even numbers\", even_number)"
   ]
  },
  {
   "cell_type": "markdown",
   "id": "5d18d107-693e-4ce9-9750-3eea33f782b1",
   "metadata": {},
   "source": [
    "## Filter with mask"
   ]
  },
  {
   "cell_type": "code",
   "execution_count": 14,
   "id": "a7be1c42-9a9e-42f2-ae18-6f6a4ffb45bc",
   "metadata": {},
   "outputs": [
    {
     "name": "stdout",
     "output_type": "stream",
     "text": [
      "Numbers greater than 5 [ 6  7  8  9 10]\n"
     ]
    }
   ],
   "source": [
    "mask = numbers>5\n",
    "print(\"Numbers greater than 5\", numbers[mask])"
   ]
  },
  {
   "cell_type": "markdown",
   "id": "5bdbf539-c7f7-47d0-b077-cfb068a1e359",
   "metadata": {},
   "source": [
    "## fancy indexing vs np.where()"
   ]
  },
  {
   "cell_type": "code",
   "execution_count": 16,
   "id": "ad3eb339-9c21-470d-ab34-a7e848825ac6",
   "metadata": {},
   "outputs": [
    {
     "name": "stdout",
     "output_type": "stream",
     "text": [
      "[1 3 5]\n",
      "(array([5, 6, 7, 8, 9]),)\n",
      "NP where [ 6  7  8  9 10]\n"
     ]
    }
   ],
   "source": [
    "indices = [0,2,4]\n",
    "print(numbers[indices])\n",
    "\n",
    "where_result = np.where(numbers>5)\n",
    "print(where_result)\n",
    "print(\"NP where\", numbers[where_result])"
   ]
  },
  {
   "cell_type": "code",
   "execution_count": 21,
   "id": "37f82dac-6b29-4166-a7db-1253655873ea",
   "metadata": {},
   "outputs": [
    {
     "name": "stdout",
     "output_type": "stream",
     "text": [
      "conditions array ['false' 'false' 'false' 'false' 'false' 'true' 'true' 'true' 'true'\n",
      " 'true']\n"
     ]
    }
   ],
   "source": [
    "condition_array = np.where(numbers>5, \"true\",\"false\")\n",
    "print(\"conditions array\", condition_array)"
   ]
  },
  {
   "cell_type": "markdown",
   "id": "facc4837-6695-4db7-b947-1a9b82bbd944",
   "metadata": {},
   "source": [
    "### Adding and removing data"
   ]
  },
  {
   "cell_type": "code",
   "execution_count": 25,
   "id": "353e6245-0f76-4495-84bd-c82ed95ed611",
   "metadata": {},
   "outputs": [
    {
     "name": "stdout",
     "output_type": "stream",
     "text": [
      "[1 2 3 4 5 6]\n"
     ]
    }
   ],
   "source": [
    "arr1 = np.array([1,2,3])\n",
    "arr2 = np.array([4,5,6])\n",
    "\n",
    "combined = np.concatenate((arr1, arr2))\n",
    "print(combined)"
   ]
  },
  {
   "cell_type": "markdown",
   "id": "d19eb5df-d06d-4226-9886-27a9e2a38042",
   "metadata": {},
   "source": [
    "### array compartibility"
   ]
  },
  {
   "cell_type": "code",
   "execution_count": 27,
   "id": "e6a131c8-b949-478d-9389-3bccbd759312",
   "metadata": {},
   "outputs": [
    {
     "name": "stdout",
     "output_type": "stream",
     "text": [
      "compatibility shapes False\n"
     ]
    }
   ],
   "source": [
    "a = np.array([1,2,3])\n",
    "b = np.array([4,5,6,7])\n",
    "c = np.array([7,8,9])\n",
    "\n",
    "print(\"compatibility shapes\", a.shape == b.shape)"
   ]
  },
  {
   "cell_type": "code",
   "execution_count": 33,
   "id": "1f0c2da2-961d-4e1e-9611-380528033133",
   "metadata": {},
   "outputs": [
    {
     "name": "stdout",
     "output_type": "stream",
     "text": [
      "[[1 2]\n",
      " [3 4]]\n",
      "[[1 2]\n",
      " [3 4]\n",
      " [5 6]]\n",
      "with new column [[1 2 7]\n",
      " [3 4 8]]\n"
     ]
    }
   ],
   "source": [
    "original = np.array([[1,2],[3,4],])\n",
    "new_row = np.array([[5,6]])\n",
    "\n",
    "with_new_row = np.vstack((orginal, new_row))\n",
    "print(original)\n",
    "print(with_new_row)\n",
    "\n",
    "new_col = np.array([[7], [8]])\n",
    "with_new_col = np.hstack((original, new_col))\n",
    "print(\"with new column\", with_new_col)"
   ]
  },
  {
   "cell_type": "markdown",
   "id": "7a68b749-d691-4527-8bc3-9e080b8b1f79",
   "metadata": {},
   "source": [
    "### Delete Operations"
   ]
  },
  {
   "cell_type": "code",
   "execution_count": 36,
   "id": "b12da9a5-7d16-419f-856d-8d1b7e917271",
   "metadata": {},
   "outputs": [
    {
     "name": "stdout",
     "output_type": "stream",
     "text": [
      "Array after deletion [1 2 4 5 6]\n"
     ]
    }
   ],
   "source": [
    "arr = np.array([1,2,3,4,5,6])\n",
    "deleted = np.delete(arr, 2)\n",
    "print(\"Array after deletion\",deleted)"
   ]
  },
  {
   "cell_type": "code",
   "execution_count": null,
   "id": "3c3bd71c-9415-4556-8100-f95ac6b61665",
   "metadata": {},
   "outputs": [],
   "source": []
  }
 ],
 "metadata": {
  "kernelspec": {
   "display_name": "Python 3 (ipykernel)",
   "language": "python",
   "name": "python3"
  },
  "language_info": {
   "codemirror_mode": {
    "name": "ipython",
    "version": 3
   },
   "file_extension": ".py",
   "mimetype": "text/x-python",
   "name": "python",
   "nbconvert_exporter": "python",
   "pygments_lexer": "ipython3",
   "version": "3.13.7"
  }
 },
 "nbformat": 4,
 "nbformat_minor": 5
}
