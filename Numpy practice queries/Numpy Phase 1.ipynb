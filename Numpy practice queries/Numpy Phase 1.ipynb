{
 "cells": [
  {
   "cell_type": "markdown",
   "id": "0bb881ef-9eaa-43ed-b8ff-d5bb18c00af3",
   "metadata": {},
   "source": [
    "## Numpy array and basic"
   ]
  },
  {
   "cell_type": "code",
   "execution_count": 1,
   "id": "c2ccbd75-d4be-4ba4-ba0f-d0b32886c6b6",
   "metadata": {},
   "outputs": [],
   "source": [
    "import numpy as np"
   ]
  },
  {
   "cell_type": "markdown",
   "id": "cb23e667-a7e1-4fd5-b5ef-1a4539456c0c",
   "metadata": {},
   "source": [
    "## creating array from list"
   ]
  },
  {
   "cell_type": "code",
   "execution_count": 2,
   "id": "5a891f94-a524-4c48-9020-abe5a9f6ca5b",
   "metadata": {},
   "outputs": [
    {
     "name": "stdout",
     "output_type": "stream",
     "text": [
      "1D array: [1 2 3 4]\n",
      "2D array: [[1 2 3]\n",
      " [4 5 6]]\n"
     ]
    }
   ],
   "source": [
    "arr_1d = np.array([1,2,3,4])\n",
    "print(\"1D array:\", arr_1d)\n",
    "\n",
    "arr_2d = np.array([[1,2,3],[4,5,6]])\n",
    "print(\"2D array:\", arr_2d)"
   ]
  },
  {
   "cell_type": "markdown",
   "id": "5f2b597c-c91d-4661-9540-80b75f23012c",
   "metadata": {},
   "source": [
    "### List vs numpy array"
   ]
  },
  {
   "cell_type": "code",
   "execution_count": 3,
   "id": "a47522f1-a491-4726-a6cb-a6490e8210c1",
   "metadata": {},
   "outputs": [
    {
     "name": "stdout",
     "output_type": "stream",
     "text": [
      "[1, 2, 3] python list \n"
     ]
    }
   ],
   "source": [
    "py_list = [1,2,3]\n",
    "print(py_list,\"python list \")"
   ]
  },
  {
   "cell_type": "code",
   "execution_count": 4,
   "id": "d00204cb-2daf-43b7-88da-11ade99d13ef",
   "metadata": {},
   "outputs": [
    {
     "name": "stdout",
     "output_type": "stream",
     "text": [
      "Python list multliplication [2 4 6]\n",
      "\n",
      " list operation time 0.11373448371887207\n",
      "\n",
      " Numpy list operation time 0.007324934005737305\n"
     ]
    }
   ],
   "source": [
    "np_array = np.array([1,2,3]) # element wise multiplication\n",
    "print(\"Python list multliplication\", np_array*2)\n",
    "\n",
    "import time\n",
    "start = time.time()\n",
    "py_list = [i*2 for i in range(1000000)]\n",
    "print(\"\\n list operation time\", time.time() - start)\n",
    "\n",
    "start = time.time()\n",
    "np_array = np.arange(1000000)*2\n",
    "print(\"\\n Numpy list operation time\", time.time() - start)"
   ]
  },
  {
   "cell_type": "markdown",
   "id": "446f237f-e918-4e86-87ac-e1852adc7e8c",
   "metadata": {},
   "source": [
    "### creating array from scratch"
   ]
  },
  {
   "cell_type": "code",
   "execution_count": 5,
   "id": "91a420d1-0ec1-4e54-acd3-069eea410dd4",
   "metadata": {},
   "outputs": [
    {
     "name": "stdout",
     "output_type": "stream",
     "text": [
      "\n",
      " zeros array [[0. 0. 0. 0.]\n",
      " [0. 0. 0. 0.]\n",
      " [0. 0. 0. 0.]]\n",
      "one array: \n",
      " [[1. 1. 1.]\n",
      " [1. 1. 1.]]\n",
      "full array: \n",
      " [[7 7]\n",
      " [7 7]]\n",
      "random array: \n",
      " [[0.97538363 0.28248622 0.24992924]\n",
      " [0.67467298 0.0662101  0.0853194 ]]\n",
      "sequence array: \n",
      " [ 0  2  4  6  8 10]\n"
     ]
    }
   ],
   "source": [
    "zeros = np.zeros((3,4))\n",
    "print(\"\\n zeros array\", zeros)\n",
    "\n",
    "ones = np.ones((2,3))\n",
    "print(\"one array: \\n\", ones)\n",
    "\n",
    "full = np.full((2,2), 7)\n",
    "print(\"full array: \\n\", full)\n",
    "\n",
    "\n",
    "random = np.random.random((2,3))\n",
    "print(\"random array: \\n\", random)\n",
    "\n",
    "sequence = np.arange(0,11, 2)\n",
    "print(\"sequence array: \\n\", sequence)"
   ]
  },
  {
   "cell_type": "markdown",
   "id": "85c3d4ba-b52f-48b4-ba2f-39dbf3031078",
   "metadata": {},
   "source": [
    "### vector, matrix and tensor"
   ]
  },
  {
   "cell_type": "markdown",
   "id": "e75b6f2e-0220-4af1-88d7-c6cf39304545",
   "metadata": {},
   "source": [
    "vector = np.array([1,2,3])\n",
    "print(\"vector: \", vector)\n",
    "\n",
    "matrix = np.array([[1,2,3], [4,5,6]])\n",
    "print(\"matrix: \", matrix)\n",
    "\n",
    "tensor = np.array([[[1,2], [3,4]], [[5,6], [7,8]]])\n",
    "print(\"tensor: \\n\", tensor)"
   ]
  },
  {
   "cell_type": "markdown",
   "id": "61fd8d9f-1322-4253-84d7-7dbe2d25f8d3",
   "metadata": {},
   "source": [
    "### array properties"
   ]
  },
  {
   "cell_type": "code",
   "execution_count": 10,
   "id": "7b2bd187-743c-46f2-b3d8-c95dd57e17d2",
   "metadata": {},
   "outputs": [
    {
     "name": "stdout",
     "output_type": "stream",
     "text": [
      "shape of array: (2, 3)\n",
      "dimesion 2\n",
      "size 6\n",
      "datatype int64\n"
     ]
    }
   ],
   "source": [
    "arr = np.array([[1,2,3], [4,5,6]])\n",
    "print(\"shape of array:\", arr.shape)\n",
    "print(\"dimesion\", arr.ndim)\n",
    "print(\"size\", arr.size)\n",
    "print(\"datatype\", arr.dtype)"
   ]
  },
  {
   "cell_type": "markdown",
   "id": "3cfd24b9-eabc-4ece-ba7c-f7b8c4c291b6",
   "metadata": {},
   "source": [
    "### Array Re-shapping"
   ]
  },
  {
   "cell_type": "code",
   "execution_count": 18,
   "id": "38a132b4-5c59-454a-aaab-fb70ade3ce80",
   "metadata": {},
   "outputs": [
    {
     "name": "stdout",
     "output_type": "stream",
     "text": [
      "original [ 0  1  2  3  4  5  6  7  8  9 10 11]\n",
      "\n",
      " reshaped array [[ 0  1  2  3]\n",
      " [ 4  5  6  7]\n",
      " [ 8  9 10 11]]\n",
      "flattened [ 0  1  2  3  4  5  6  7  8  9 10 11]\n",
      "\n",
      " raveled array [ 0  1  2  3  4  5  6  7  8  9 10 11]\n",
      "\n",
      " Transpose array [[ 0  4  8]\n",
      " [ 1  5  9]\n",
      " [ 2  6 10]\n",
      " [ 3  7 11]]\n"
     ]
    }
   ],
   "source": [
    "arr = np.arange(12)\n",
    "print(\"original\", arr)\n",
    "\n",
    "reshaped = arr.reshape((3,4))\n",
    "print(\"\\n reshaped array\", reshaped)\n",
    "\n",
    "flattened = reshaped.flatten()\n",
    "print(\"flattened\", flattened)\n",
    "\n",
    "# ravel (return view, instead of copy)\n",
    "raveled = reshaped.ravel()\n",
    "print(\"\\n raveled array\", raveled)\n",
    "\n",
    "# Transpose \n",
    "transpose = reshaped.T\n",
    "print(\"\\n Transpose array\", transpose)"
   ]
  },
  {
   "cell_type": "markdown",
   "id": "99b2a733-a56d-4f87-a28a-75ed0995a9ee",
   "metadata": {},
   "source": [
    "# Phase 2 of Numpy libraries learning"
   ]
  },
  {
   "cell_type": "code",
   "execution_count": null,
   "id": "553f1299-e90b-438b-b250-0b426ea7d1a9",
   "metadata": {},
   "outputs": [],
   "source": []
  }
 ],
 "metadata": {
  "kernelspec": {
   "display_name": "Python 3 (ipykernel)",
   "language": "python",
   "name": "python3"
  },
  "language_info": {
   "codemirror_mode": {
    "name": "ipython",
    "version": 3
   },
   "file_extension": ".py",
   "mimetype": "text/x-python",
   "name": "python",
   "nbconvert_exporter": "python",
   "pygments_lexer": "ipython3",
   "version": "3.13.7"
  }
 },
 "nbformat": 4,
 "nbformat_minor": 5
}
